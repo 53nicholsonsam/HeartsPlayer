{
 "cells": [
  {
   "cell_type": "code",
   "execution_count": 40,
   "metadata": {},
   "outputs": [
    {
     "name": "stdout",
     "output_type": "stream",
     "text": [
      "['03d', '13h', '11d', '05h', '08h', '08c', '13c', '05d', '08d', '09c', '01s', '12h', '03s']\n",
      "['03d', '13h', '11d', '05h', '08h', '08c', '13c', '05d', '08d', '09c', '01s', '12h', '03s']\n",
      "['01s', '03d', '03s', '05d', '05h', '08c', '08d', '08h', '09c', '11d', '12h', '13c', '13h']\n"
     ]
    }
   ],
   "source": [
    "###Creating a script that plays hearts with itself with the hopes of further expansion\n",
    "import random\n",
    "\n",
    "###Dealing###\n",
    "Suits=[\"h\",\"d\",\"s\",\"c\"]\n",
    "Numbers=list(range(1,14)) #To make life a little easier, I am setting ace high to value of 13 and down from there, so a 2 is actually a 1 in this system\n",
    "deck=[]\n",
    "for item in Suits:\n",
    "  for num in Numbers:\n",
    "    #print (num)\n",
    "    deck.append(str(num).zfill(2)+item) #Creating the cards here\n",
    "indexdeck=list(range(1,53)) #Need to index the deck so that we can deal it\n",
    "temptodict=[] \n",
    "for i in range(0,len(indexdeck)): #Sew up the index and the card so that we can deal\n",
    "  templist=[]\n",
    "  templist.append(indexdeck[i])\n",
    "  templist.append(deck[i])\n",
    "  temptodict.append(templist)\n",
    "deckwindex=dict(temptodict) #this is our indexed deck\n",
    "#print(deckwindex)\n",
    "shuffleindex=list(range(1,53)) #creating our shuffling index\n",
    "random.shuffle(shuffleindex)\n",
    "#print (shuffleindex)\n",
    "handsize=int(len(shuffleindex)/4) #dividing up our shuffle so we can deal the cards\n",
    "handsize2=int(handsize*2)\n",
    "handsize3=int(handsize*3)\n",
    "handsize4=int(handsize*4)\n",
    "Player1deal=shuffleindex[:handsize]\n",
    "Player2deal=shuffleindex[handsize:handsize2]\n",
    "Player3deal=shuffleindex[handsize2:handsize3]\n",
    "Player4deal=shuffleindex[handsize3:handsize4]\n",
    "#print(Player1deal)\n",
    "#print(Player2deal)\n",
    "#print(Player3deal)\n",
    "#print(Player4deal)\n",
    "player1hand=[]\n",
    "player2hand=[]\n",
    "player3hand=[]\n",
    "player4hand=[]\n",
    "for ii in range(0,len(Player1deal)):  #This is the actual dealing\n",
    "  player1hand.append(deckwindex[Player1deal[ii]])\n",
    "  player2hand.append(deckwindex[Player2deal[ii]])\n",
    "  player3hand.append(deckwindex[Player3deal[ii]])\n",
    "  player4hand.append(deckwindex[Player4deal[ii]])\n",
    "  #Players now each have a hand of 13 cards\n",
    "print(player1hand)\n",
    "#print(player2hand)\n",
    "#print(player3hand)\n",
    "#print(player4hand)\n",
    "\n",
    "###Organizing the player's hands\"###\n",
    "hands=[player1hand,player2hand,player3hand,player4hand]\n",
    "\n",
    "#print(hands)\n",
    "def takesecond(elem):\n",
    "    return[item.split()[-1] for item in elem]\n",
    "print (takesecond(player1hand))\n",
    "#print(order)\n",
    "player1hand=sorted(player1hand, key=takesecond)\n",
    "player2hand=sorted(player2hand, key=lambda n: n.split()[-1])\n",
    "player3hand=sorted(player3hand, key=lambda n: n.split()[-1])\n",
    "player4hand=sorted(player4hand, key=lambda n: n.split()[-1])\n",
    "#print(order)\n",
    "print(player1hand)\n",
    "#print(player2hand)\n",
    "#print(player3hand)\n",
    "#print(player4hand)"
   ]
  },
  {
   "cell_type": "code",
   "execution_count": null,
   "metadata": {},
   "outputs": [],
   "source": []
  },
  {
   "cell_type": "code",
   "execution_count": null,
   "metadata": {},
   "outputs": [],
   "source": []
  },
  {
   "cell_type": "code",
   "execution_count": null,
   "metadata": {},
   "outputs": [],
   "source": []
  }
 ],
 "metadata": {
  "kernelspec": {
   "display_name": "Python 3",
   "language": "python",
   "name": "python3"
  },
  "language_info": {
   "codemirror_mode": {
    "name": "ipython",
    "version": 3
   },
   "file_extension": ".py",
   "mimetype": "text/x-python",
   "name": "python",
   "nbconvert_exporter": "python",
   "pygments_lexer": "ipython3",
   "version": "3.7.6"
  }
 },
 "nbformat": 4,
 "nbformat_minor": 4
}
